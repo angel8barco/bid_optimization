{
 "cells": [
  {
   "cell_type": "code",
   "execution_count": 47,
   "metadata": {
    "collapsed": true
   },
   "outputs": [],
   "source": [
    "import pandas as pd"
   ]
  },
  {
   "cell_type": "code",
   "execution_count": 48,
   "metadata": {
    "collapsed": true
   },
   "outputs": [],
   "source": [
    "datos = pd.read_csv('BBDD-T2-15.csv')"
   ]
  },
  {
   "cell_type": "code",
   "execution_count": 49,
   "metadata": {},
   "outputs": [
    {
     "data": {
      "text/html": [
       "<div>\n",
       "<style>\n",
       "    .dataframe thead tr:only-child th {\n",
       "        text-align: right;\n",
       "    }\n",
       "\n",
       "    .dataframe thead th {\n",
       "        text-align: left;\n",
       "    }\n",
       "\n",
       "    .dataframe tbody tr th {\n",
       "        vertical-align: top;\n",
       "    }\n",
       "</style>\n",
       "<table border=\"1\" class=\"dataframe\">\n",
       "  <thead>\n",
       "    <tr style=\"text-align: right;\">\n",
       "      <th></th>\n",
       "      <th>Día</th>\n",
       "      <th>Campaña</th>\n",
       "      <th>Dispositivo</th>\n",
       "      <th>Mes</th>\n",
       "      <th>Día de la semana</th>\n",
       "      <th>Región</th>\n",
       "      <th>Impresiones</th>\n",
       "      <th>Clics</th>\n",
       "      <th>Coste</th>\n",
       "      <th>CTR</th>\n",
       "      <th>Posic. media</th>\n",
       "      <th>CPC medio</th>\n",
       "      <th>CPM medio</th>\n",
       "      <th>Coste medio</th>\n",
       "      <th>Conversiones</th>\n",
       "      <th>Coste/conv.</th>\n",
       "      <th>Porcentaje de conv.</th>\n",
       "      <th>Valor conv./coste</th>\n",
       "      <th>Valor conv. total</th>\n",
       "      <th>Valor/conv.</th>\n",
       "    </tr>\n",
       "  </thead>\n",
       "  <tbody>\n",
       "    <tr>\n",
       "      <th>180855</th>\n",
       "      <td>30-jun-2015</td>\n",
       "      <td>P - Barbie</td>\n",
       "      <td>Móviles</td>\n",
       "      <td>Jun. 2015</td>\n",
       "      <td>Martes</td>\n",
       "      <td>Comunidad de Madrid</td>\n",
       "      <td>3.000</td>\n",
       "      <td>1</td>\n",
       "      <td>0,08 €</td>\n",
       "      <td>33,33 %</td>\n",
       "      <td>1,67</td>\n",
       "      <td>0,08 €</td>\n",
       "      <td>26,67 €</td>\n",
       "      <td>0,08 €</td>\n",
       "      <td>0,00</td>\n",
       "      <td>0,00 €</td>\n",
       "      <td>0,00 %</td>\n",
       "      <td>0,00</td>\n",
       "      <td>0,00</td>\n",
       "      <td>0,00</td>\n",
       "    </tr>\n",
       "    <tr>\n",
       "      <th>180856</th>\n",
       "      <td>30-jun-2015</td>\n",
       "      <td>P - Toy Story</td>\n",
       "      <td>Móviles</td>\n",
       "      <td>Jun. 2015</td>\n",
       "      <td>Martes</td>\n",
       "      <td>Comunidad Valenciana</td>\n",
       "      <td>19.000</td>\n",
       "      <td>2</td>\n",
       "      <td>0,11 €</td>\n",
       "      <td>10,53 %</td>\n",
       "      <td>1,68</td>\n",
       "      <td>0,06 €</td>\n",
       "      <td>5,79 €</td>\n",
       "      <td>0,06 €</td>\n",
       "      <td>0,00</td>\n",
       "      <td>0,00 €</td>\n",
       "      <td>0,00 %</td>\n",
       "      <td>0,00</td>\n",
       "      <td>0,00</td>\n",
       "      <td>0,00</td>\n",
       "    </tr>\n",
       "    <tr>\n",
       "      <th>180857</th>\n",
       "      <td>30-jun-2015</td>\n",
       "      <td>P - Toy Story</td>\n",
       "      <td>Tablets</td>\n",
       "      <td>Jun. 2015</td>\n",
       "      <td>Martes</td>\n",
       "      <td>Castilla-La Mancha</td>\n",
       "      <td>6.000</td>\n",
       "      <td>2</td>\n",
       "      <td>0,47 €</td>\n",
       "      <td>33,33 %</td>\n",
       "      <td>2,00</td>\n",
       "      <td>0,24 €</td>\n",
       "      <td>78,33 €</td>\n",
       "      <td>0,24 €</td>\n",
       "      <td>0,00</td>\n",
       "      <td>0,00 €</td>\n",
       "      <td>0,00 %</td>\n",
       "      <td>0,00</td>\n",
       "      <td>0,00</td>\n",
       "      <td>0,00</td>\n",
       "    </tr>\n",
       "    <tr>\n",
       "      <th>180858</th>\n",
       "      <td>30-jun-2015</td>\n",
       "      <td>M - Playmobil</td>\n",
       "      <td>Tablets</td>\n",
       "      <td>Jun. 2015</td>\n",
       "      <td>Martes</td>\n",
       "      <td>Castilla-La Mancha</td>\n",
       "      <td>27.000</td>\n",
       "      <td>0</td>\n",
       "      <td>0,00 €</td>\n",
       "      <td>0,00 %</td>\n",
       "      <td>1,70</td>\n",
       "      <td>0,00 €</td>\n",
       "      <td>0,00 €</td>\n",
       "      <td>0,00 €</td>\n",
       "      <td>0,00</td>\n",
       "      <td>0,00 €</td>\n",
       "      <td>0,00 %</td>\n",
       "      <td>0,00</td>\n",
       "      <td>0,00</td>\n",
       "      <td>0,00</td>\n",
       "    </tr>\n",
       "    <tr>\n",
       "      <th>180859</th>\n",
       "      <td>30-jun-2015</td>\n",
       "      <td>Shopping - General</td>\n",
       "      <td>Tablets</td>\n",
       "      <td>Jun. 2015</td>\n",
       "      <td>Martes</td>\n",
       "      <td>Comunidad Valenciana</td>\n",
       "      <td>1.144</td>\n",
       "      <td>20</td>\n",
       "      <td>3,76 €</td>\n",
       "      <td>1,75 %</td>\n",
       "      <td>0,00</td>\n",
       "      <td>0,19 €</td>\n",
       "      <td>3,29 €</td>\n",
       "      <td>0,19 €</td>\n",
       "      <td>0,00</td>\n",
       "      <td>0,00 €</td>\n",
       "      <td>0,00 %</td>\n",
       "      <td>0,00</td>\n",
       "      <td>0,00</td>\n",
       "      <td>0,00</td>\n",
       "    </tr>\n",
       "  </tbody>\n",
       "</table>\n",
       "</div>"
      ],
      "text/plain": [
       "                Día             Campaña Dispositivo        Mes  \\\n",
       "180855  30-jun-2015          P - Barbie     Móviles  Jun. 2015   \n",
       "180856  30-jun-2015       P - Toy Story     Móviles  Jun. 2015   \n",
       "180857  30-jun-2015       P - Toy Story     Tablets  Jun. 2015   \n",
       "180858  30-jun-2015       M - Playmobil     Tablets  Jun. 2015   \n",
       "180859  30-jun-2015  Shopping - General     Tablets  Jun. 2015   \n",
       "\n",
       "       Día de la semana                Región  Impresiones  Clics   Coste  \\\n",
       "180855           Martes   Comunidad de Madrid        3.000      1  0,08 €   \n",
       "180856           Martes  Comunidad Valenciana       19.000      2  0,11 €   \n",
       "180857           Martes    Castilla-La Mancha        6.000      2  0,47 €   \n",
       "180858           Martes    Castilla-La Mancha       27.000      0  0,00 €   \n",
       "180859           Martes  Comunidad Valenciana        1.144     20  3,76 €   \n",
       "\n",
       "            CTR Posic. media CPC medio CPM medio Coste medio Conversiones  \\\n",
       "180855  33,33 %         1,67    0,08 €   26,67 €      0,08 €         0,00   \n",
       "180856  10,53 %         1,68    0,06 €    5,79 €      0,06 €         0,00   \n",
       "180857  33,33 %         2,00    0,24 €   78,33 €      0,24 €         0,00   \n",
       "180858   0,00 %         1,70    0,00 €    0,00 €      0,00 €         0,00   \n",
       "180859   1,75 %         0,00    0,19 €    3,29 €      0,19 €         0,00   \n",
       "\n",
       "       Coste/conv. Porcentaje de conv. Valor conv./coste Valor conv. total  \\\n",
       "180855      0,00 €              0,00 %              0,00              0,00   \n",
       "180856      0,00 €              0,00 %              0,00              0,00   \n",
       "180857      0,00 €              0,00 %              0,00              0,00   \n",
       "180858      0,00 €              0,00 %              0,00              0,00   \n",
       "180859      0,00 €              0,00 %              0,00              0,00   \n",
       "\n",
       "       Valor/conv.  \n",
       "180855        0,00  \n",
       "180856        0,00  \n",
       "180857        0,00  \n",
       "180858        0,00  \n",
       "180859        0,00  "
      ]
     },
     "execution_count": 49,
     "metadata": {},
     "output_type": "execute_result"
    }
   ],
   "source": [
    "datos.tail()"
   ]
  },
  {
   "cell_type": "code",
   "execution_count": 50,
   "metadata": {
    "collapsed": true
   },
   "outputs": [],
   "source": [
    "def mod(a):\n",
    "   return float(str(a).split('\\xc2\\xa0\\xe2\\x82\\xac')[0].replace(',','.'))\n",
    "\n",
    "datos['Coste'] = datos['Coste'].apply(mod)\n",
    "datos['CPC medio'] = datos['CPC medio'].apply(mod)\n",
    "datos['Coste medio'] = datos['Coste medio'].apply(mod)"
   ]
  },
  {
   "cell_type": "code",
   "execution_count": 51,
   "metadata": {
    "collapsed": true
   },
   "outputs": [],
   "source": [
    "def mod2(c):\n",
    "   return float(str(c).replace(',','.'))\n",
    "datos['Conversiones'] = datos['Conversiones'].apply(mod2)"
   ]
  },
  {
   "cell_type": "code",
   "execution_count": 52,
   "metadata": {
    "collapsed": true
   },
   "outputs": [],
   "source": [
    "def my_fun(b):\n",
    "    if float((str(b).split('.')[1])) == 0.000 :\n",
    "        return float(str(b).split('.')[0])+float(str(b).split('.')[1])\n",
    "    else:\n",
    "        return float(str(b).replace('.',''))\n",
    "datos['Impresiones'] = datos['Impresiones'].apply(my_fun)"
   ]
  },
  {
   "cell_type": "code",
   "execution_count": 53,
   "metadata": {},
   "outputs": [
    {
     "data": {
      "text/html": [
       "<div>\n",
       "<style>\n",
       "    .dataframe thead tr:only-child th {\n",
       "        text-align: right;\n",
       "    }\n",
       "\n",
       "    .dataframe thead th {\n",
       "        text-align: left;\n",
       "    }\n",
       "\n",
       "    .dataframe tbody tr th {\n",
       "        vertical-align: top;\n",
       "    }\n",
       "</style>\n",
       "<table border=\"1\" class=\"dataframe\">\n",
       "  <thead>\n",
       "    <tr style=\"text-align: right;\">\n",
       "      <th></th>\n",
       "      <th>Impresiones</th>\n",
       "      <th>Clics</th>\n",
       "      <th>Coste</th>\n",
       "      <th>CPC medio</th>\n",
       "      <th>Coste medio</th>\n",
       "      <th>Conversiones</th>\n",
       "    </tr>\n",
       "  </thead>\n",
       "  <tbody>\n",
       "    <tr>\n",
       "      <th>count</th>\n",
       "      <td>180860.000000</td>\n",
       "      <td>180860.000000</td>\n",
       "      <td>180860.000000</td>\n",
       "      <td>180860.000000</td>\n",
       "      <td>180860.000000</td>\n",
       "      <td>180860.000000</td>\n",
       "    </tr>\n",
       "    <tr>\n",
       "      <th>mean</th>\n",
       "      <td>50.555966</td>\n",
       "      <td>1.479166</td>\n",
       "      <td>0.313807</td>\n",
       "      <td>0.043111</td>\n",
       "      <td>0.043111</td>\n",
       "      <td>0.019756</td>\n",
       "    </tr>\n",
       "    <tr>\n",
       "      <th>std</th>\n",
       "      <td>302.402541</td>\n",
       "      <td>9.452198</td>\n",
       "      <td>2.280932</td>\n",
       "      <td>0.113709</td>\n",
       "      <td>0.113709</td>\n",
       "      <td>0.269034</td>\n",
       "    </tr>\n",
       "    <tr>\n",
       "      <th>min</th>\n",
       "      <td>0.000000</td>\n",
       "      <td>0.000000</td>\n",
       "      <td>0.000000</td>\n",
       "      <td>0.000000</td>\n",
       "      <td>0.000000</td>\n",
       "      <td>0.000000</td>\n",
       "    </tr>\n",
       "    <tr>\n",
       "      <th>25%</th>\n",
       "      <td>2.000000</td>\n",
       "      <td>0.000000</td>\n",
       "      <td>0.000000</td>\n",
       "      <td>0.000000</td>\n",
       "      <td>0.000000</td>\n",
       "      <td>0.000000</td>\n",
       "    </tr>\n",
       "    <tr>\n",
       "      <th>50%</th>\n",
       "      <td>4.000000</td>\n",
       "      <td>0.000000</td>\n",
       "      <td>0.000000</td>\n",
       "      <td>0.000000</td>\n",
       "      <td>0.000000</td>\n",
       "      <td>0.000000</td>\n",
       "    </tr>\n",
       "    <tr>\n",
       "      <th>75%</th>\n",
       "      <td>17.000000</td>\n",
       "      <td>1.000000</td>\n",
       "      <td>0.020000</td>\n",
       "      <td>0.020000</td>\n",
       "      <td>0.020000</td>\n",
       "      <td>0.000000</td>\n",
       "    </tr>\n",
       "    <tr>\n",
       "      <th>max</th>\n",
       "      <td>17959.000000</td>\n",
       "      <td>496.000000</td>\n",
       "      <td>123.330000</td>\n",
       "      <td>8.220000</td>\n",
       "      <td>8.220000</td>\n",
       "      <td>44.000000</td>\n",
       "    </tr>\n",
       "  </tbody>\n",
       "</table>\n",
       "</div>"
      ],
      "text/plain": [
       "         Impresiones          Clics          Coste      CPC medio  \\\n",
       "count  180860.000000  180860.000000  180860.000000  180860.000000   \n",
       "mean       50.555966       1.479166       0.313807       0.043111   \n",
       "std       302.402541       9.452198       2.280932       0.113709   \n",
       "min         0.000000       0.000000       0.000000       0.000000   \n",
       "25%         2.000000       0.000000       0.000000       0.000000   \n",
       "50%         4.000000       0.000000       0.000000       0.000000   \n",
       "75%        17.000000       1.000000       0.020000       0.020000   \n",
       "max     17959.000000     496.000000     123.330000       8.220000   \n",
       "\n",
       "         Coste medio   Conversiones  \n",
       "count  180860.000000  180860.000000  \n",
       "mean        0.043111       0.019756  \n",
       "std         0.113709       0.269034  \n",
       "min         0.000000       0.000000  \n",
       "25%         0.000000       0.000000  \n",
       "50%         0.000000       0.000000  \n",
       "75%         0.020000       0.000000  \n",
       "max         8.220000      44.000000  "
      ]
     },
     "execution_count": 53,
     "metadata": {},
     "output_type": "execute_result"
    }
   ],
   "source": [
    "datos.describe()"
   ]
  },
  {
   "cell_type": "code",
   "execution_count": 54,
   "metadata": {
    "collapsed": true
   },
   "outputs": [],
   "source": [
    "datdia = datos.groupby(['Día']).sum()"
   ]
  },
  {
   "cell_type": "code",
   "execution_count": 55,
   "metadata": {
    "collapsed": true
   },
   "outputs": [],
   "source": [
    "import matplotlib.pyplot as plt\n",
    "%matplotlib inline"
   ]
  },
  {
   "cell_type": "code",
   "execution_count": 56,
   "metadata": {},
   "outputs": [
    {
     "data": {
      "text/plain": [
       "<matplotlib.collections.PathCollection at 0x25b14320>"
      ]
     },
     "execution_count": 56,
     "metadata": {},
     "output_type": "execute_result"
    },
    {
     "data": {
      "image/png": "[encoded data removed]",
      "text/plain": [
       "<matplotlib.figure.Figure at 0x19b28a58>"
      ]
     },
     "metadata": {},
     "output_type": "display_data"
    }
   ],
   "source": [
    "plt.scatter(datdia[\"Conversiones\"], datdia[\"Clics\"], c=datdia[\"Conversiones\"])"
   ]
  },
  {
   "cell_type": "code",
   "execution_count": 57,
   "metadata": {},
   "outputs": [
    {
     "data": {
      "text/html": [
       "<div>\n",
       "<style>\n",
       "    .dataframe thead tr:only-child th {\n",
       "        text-align: right;\n",
       "    }\n",
       "\n",
       "    .dataframe thead th {\n",
       "        text-align: left;\n",
       "    }\n",
       "\n",
       "    .dataframe tbody tr th {\n",
       "        vertical-align: top;\n",
       "    }\n",
       "</style>\n",
       "<table border=\"1\" class=\"dataframe\">\n",
       "  <thead>\n",
       "    <tr style=\"text-align: right;\">\n",
       "      <th></th>\n",
       "      <th>Impresiones</th>\n",
       "      <th>Clics</th>\n",
       "      <th>Coste</th>\n",
       "      <th>CPC medio</th>\n",
       "      <th>Coste medio</th>\n",
       "      <th>Conversiones</th>\n",
       "    </tr>\n",
       "    <tr>\n",
       "      <th>Día</th>\n",
       "      <th></th>\n",
       "      <th></th>\n",
       "      <th></th>\n",
       "      <th></th>\n",
       "      <th></th>\n",
       "      <th></th>\n",
       "    </tr>\n",
       "  </thead>\n",
       "  <tbody>\n",
       "    <tr>\n",
       "      <th>08-jun-2015</th>\n",
       "      <td>202568.0</td>\n",
       "      <td>6641</td>\n",
       "      <td>1754.91</td>\n",
       "      <td>93.95</td>\n",
       "      <td>93.95</td>\n",
       "      <td>118.0</td>\n",
       "    </tr>\n",
       "    <tr>\n",
       "      <th>09-jun-2015</th>\n",
       "      <td>177753.0</td>\n",
       "      <td>5461</td>\n",
       "      <td>1392.44</td>\n",
       "      <td>88.41</td>\n",
       "      <td>88.41</td>\n",
       "      <td>116.0</td>\n",
       "    </tr>\n",
       "    <tr>\n",
       "      <th>22-jun-2015</th>\n",
       "      <td>142787.0</td>\n",
       "      <td>5571</td>\n",
       "      <td>1407.63</td>\n",
       "      <td>77.34</td>\n",
       "      <td>77.34</td>\n",
       "      <td>112.0</td>\n",
       "    </tr>\n",
       "    <tr>\n",
       "      <th>29-jun-2015</th>\n",
       "      <td>154355.0</td>\n",
       "      <td>5249</td>\n",
       "      <td>981.80</td>\n",
       "      <td>59.58</td>\n",
       "      <td>59.58</td>\n",
       "      <td>129.0</td>\n",
       "    </tr>\n",
       "    <tr>\n",
       "      <th>30-jun-2015</th>\n",
       "      <td>120330.0</td>\n",
       "      <td>4445</td>\n",
       "      <td>793.83</td>\n",
       "      <td>57.51</td>\n",
       "      <td>57.51</td>\n",
       "      <td>126.0</td>\n",
       "    </tr>\n",
       "  </tbody>\n",
       "</table>\n",
       "</div>"
      ],
      "text/plain": [
       "             Impresiones  Clics    Coste  CPC medio  Coste medio  Conversiones\n",
       "Día                                                                           \n",
       "08-jun-2015     202568.0   6641  1754.91      93.95        93.95         118.0\n",
       "09-jun-2015     177753.0   5461  1392.44      88.41        88.41         116.0\n",
       "22-jun-2015     142787.0   5571  1407.63      77.34        77.34         112.0\n",
       "29-jun-2015     154355.0   5249   981.80      59.58        59.58         129.0\n",
       "30-jun-2015     120330.0   4445   793.83      57.51        57.51         126.0"
      ]
     },
     "execution_count": 57,
     "metadata": {},
     "output_type": "execute_result"
    }
   ],
   "source": [
    "datdia[(datdia.Conversiones>100)]"
   ]
  },
  {
   "cell_type": "code",
   "execution_count": 58,
   "metadata": {},
   "outputs": [
    {
     "data": {
      "text/plain": [
       "<matplotlib.axes._subplots.AxesSubplot at 0x19c68080>"
      ]
     },
     "execution_count": 58,
     "metadata": {},
     "output_type": "execute_result"
    },
    {
     "data": {
      "image/png": "[encoded data removed]",
      "text/plain": [
       "<matplotlib.figure.Figure at 0x19d81f98>"
      ]
     },
     "metadata": {},
     "output_type": "display_data"
    }
   ],
   "source": [
    "datdia.boxplot('Conversiones')"
   ]
  },
  {
   "cell_type": "code",
   "execution_count": 59,
   "metadata": {},
   "outputs": [
    {
     "data": {
      "text/plain": [
       "array([[<matplotlib.axes._subplots.AxesSubplot object at 0x00000000259C2DD8>]], dtype=object)"
      ]
     },
     "execution_count": 59,
     "metadata": {},
     "output_type": "execute_result"
    },
    {
     "data": {
      "image/png": "[encoded data removed]",
      "text/plain": [
       "<matplotlib.figure.Figure at 0x1a065c50>"
      ]
     },
     "metadata": {},
     "output_type": "display_data"
    }
   ],
   "source": [
    "datdia.hist('Conversiones')"
   ]
  },
  {
   "cell_type": "code",
   "execution_count": 60,
   "metadata": {},
   "outputs": [
    {
     "data": {
      "image/png": "[encoded data removed]",
      "text/plain": [
       "<matplotlib.figure.Figure at 0x1a2ba0b8>"
      ]
     },
     "metadata": {},
     "output_type": "display_data"
    }
   ],
   "source": [
    "datdia.plot.scatter(x='Clics', y='Conversiones');"
   ]
  },
  {
   "cell_type": "code",
   "execution_count": 61,
   "metadata": {
    "collapsed": true
   },
   "outputs": [],
   "source": [
    "dispoo = datos.groupby('Dispositivo').sum()"
   ]
  },
  {
   "cell_type": "code",
   "execution_count": 62,
   "metadata": {},
   "outputs": [
    {
     "data": {
      "text/plain": [
       "array([[<matplotlib.axes._subplots.AxesSubplot object at 0x000000001A0654A8>,\n",
       "        <matplotlib.axes._subplots.AxesSubplot object at 0x00000000251CF6A0>],\n",
       "       [<matplotlib.axes._subplots.AxesSubplot object at 0x000000002484E240>,\n",
       "        <matplotlib.axes._subplots.AxesSubplot object at 0x0000000024936C18>]], dtype=object)"
      ]
     },
     "execution_count": 62,
     "metadata": {},
     "output_type": "execute_result"
    },
    {
     "data": {
      "image/png": "[encoded data removed]",
      "text/plain": [
       "<matplotlib.figure.Figure at 0x24f3ae48>"
      ]
     },
     "metadata": {},
     "output_type": "display_data"
    }
   ],
   "source": [
    "datos.hist('Conversiones',by='Dispositivo')"
   ]
  },
  {
   "cell_type": "code",
   "execution_count": 63,
   "metadata": {},
   "outputs": [
    {
     "data": {
      "text/plain": [
       "array([[<matplotlib.axes._subplots.AxesSubplot object at 0x000000002513A9B0>,\n",
       "        <matplotlib.axes._subplots.AxesSubplot object at 0x0000000024F2EE10>,\n",
       "        <matplotlib.axes._subplots.AxesSubplot object at 0x0000000024A35E80>],\n",
       "       [<matplotlib.axes._subplots.AxesSubplot object at 0x0000000019DCC160>,\n",
       "        <matplotlib.axes._subplots.AxesSubplot object at 0x0000000024D01DD8>,\n",
       "        <matplotlib.axes._subplots.AxesSubplot object at 0x0000000024AFD748>],\n",
       "       [<matplotlib.axes._subplots.AxesSubplot object at 0x0000000019F9D320>,\n",
       "        <matplotlib.axes._subplots.AxesSubplot object at 0x000000002471ACF8>,\n",
       "        <matplotlib.axes._subplots.AxesSubplot object at 0x0000000025A7FB00>]], dtype=object)"
      ]
     },
     "execution_count": 63,
     "metadata": {},
     "output_type": "execute_result"
    },
    {
     "data": {
      "image/png": "[encoded data removed]",
      "text/plain": [
       "<matplotlib.figure.Figure at 0x1a1394e0>"
      ]
     },
     "metadata": {},
     "output_type": "display_data"
    }
   ],
   "source": [
    "datos.hist('Conversiones',by='Día de la semana')"
   ]
  },
  {
   "cell_type": "code",
   "execution_count": 64,
   "metadata": {},
   "outputs": [
    {
     "data": {
      "image/png": "[encoded data removed]",
      "text/plain": [
       "<matplotlib.figure.Figure at 0x255ddfd0>"
      ]
     },
     "metadata": {},
     "output_type": "display_data"
    }
   ],
   "source": [
    "plt.figure(figsize=(20,5)) \n",
    "plt.hist(datdia[\"Clics\"])\n",
    "plt.show()"
   ]
  },
  {
   "cell_type": "code",
   "execution_count": 65,
   "metadata": {
    "collapsed": true
   },
   "outputs": [],
   "source": [
    "import seaborn as sns"
   ]
  },
  {
   "cell_type": "code",
   "execution_count": 66,
   "metadata": {},
   "outputs": [
    {
     "data": {
      "text/plain": [
       "<matplotlib.axes._subplots.AxesSubplot at 0x24a50d30>"
      ]
     },
     "execution_count": 66,
     "metadata": {},
     "output_type": "execute_result"
    },
    {
     "data": {
      "image/png": "[encoded data removed]",
      "text/plain": [
       "<matplotlib.figure.Figure at 0x24bdfe80>"
      ]
     },
     "metadata": {},
     "output_type": "display_data"
    }
   ],
   "source": [
    "sns.distplot(datdia[\"Conversiones\"])"
   ]
  },
  {
   "cell_type": "code",
   "execution_count": 67,
   "metadata": {},
   "outputs": [
    {
     "data": {
      "text/plain": [
       "(array([ 32.,  14.,  10.,   7.,  11.,   6.,   2.,   2.,   2.,   3.]),\n",
       " array([   7. ,   19.2,   31.4,   43.6,   55.8,   68. ,   80.2,   92.4,\n",
       "         104.6,  116.8,  129. ]),\n",
       " <a list of 10 Patch objects>)"
      ]
     },
     "execution_count": 67,
     "metadata": {},
     "output_type": "execute_result"
    },
    {
     "data": {
      "image/png": "[encoded data removed]",
      "text/plain": [
       "<matplotlib.figure.Figure at 0x25d92e10>"
      ]
     },
     "metadata": {},
     "output_type": "display_data"
    }
   ],
   "source": [
    "plt.subplot(2,3,1)\n",
    "plt.hist(datdia[\"Impresiones\"])\n",
    "\n",
    "plt.subplot(2,3,3)\n",
    "plt.hist(datdia[\"Clics\"])\n",
    "\n",
    "plt.subplot(2,3,5)\n",
    "plt.hist(datdia[\"Conversiones\"])"
   ]
  },
  {
   "cell_type": "code",
   "execution_count": 68,
   "metadata": {},
   "outputs": [
    {
     "data": {
      "text/plain": [
       "<seaborn.axisgrid.FacetGrid at 0x25f2e208>"
      ]
     },
     "execution_count": 68,
     "metadata": {},
     "output_type": "execute_result"
    },
    {
     "data": {
      "image/png": "[encoded data removed]",
      "text/plain": [
       "<matplotlib.figure.Figure at 0x25543390>"
      ]
     },
     "metadata": {},
     "output_type": "display_data"
    }
   ],
   "source": [
    "sns.lmplot(data=datdia, x=\"Clics\",y=\"Conversiones\" )"
   ]
  },
  {
   "cell_type": "code",
   "execution_count": 70,
   "metadata": {},
   "outputs": [
    {
     "data": {
      "text/plain": [
       "<matplotlib.axes._subplots.AxesSubplot at 0x283430f0>"
      ]
     },
     "execution_count": 70,
     "metadata": {},
     "output_type": "execute_result"
    },
    {
     "data": {
      "image/png": "[encoded data removed]",
      "text/plain": [
       "<matplotlib.figure.Figure at 0x283319b0>"
      ]
     },
     "metadata": {},
     "output_type": "display_data"
    }
   ],
   "source": [
    "sns.heatmap(datos.corr())"
   ]
  },
  {
   "cell_type": "code",
   "execution_count": 71,
   "metadata": {},
   "outputs": [
    {
     "name": "stderr",
     "output_type": "stream",
     "text": [
      "C:\\Users\\Angel\\Anaconda2\\lib\\site-packages\\matplotlib\\cbook.py:136: MatplotlibDeprecationWarning:\n",
      "\n",
      "The axisbg attribute was deprecated in version 2.0. Use facecolor instead.\n",
      "\n"
     ]
    },
    {
     "data": {
      "text/plain": [
       "<seaborn.matrix.ClusterGrid at 0x263fca20>"
      ]
     },
     "execution_count": 71,
     "metadata": {},
     "output_type": "execute_result"
    },
    {
     "data": {
      "image/png": "[encoded data removed]",
      "text/plain": [
       "<matplotlib.figure.Figure at 0x280f3828>"
      ]
     },
     "metadata": {},
     "output_type": "display_data"
    }
   ],
   "source": [
    "sns.clustermap(datos.corr())"
   ]
  },
  {
   "cell_type": "code",
   "execution_count": 72,
   "metadata": {
    "collapsed": true
   },
   "outputs": [],
   "source": [
    "# ranking conversiones por día de la semana\n",
    "tops = datos.groupby('Día de la semana').mean()['Conversiones'].sort_values(ascending=False)"
   ]
  },
  {
   "cell_type": "code",
   "execution_count": 73,
   "metadata": {},
   "outputs": [
    {
     "data": {
      "text/plain": [
       "Día de la semana\n",
       "Lunes        0.025097\n",
       "Martes       0.024808\n",
       "Domingo      0.021367\n",
       "Miércoles    0.018518\n",
       "Sábado       0.017029\n",
       "Viernes      0.015861\n",
       "Jueves       0.015032\n",
       "Name: Conversiones, dtype: float64"
      ]
     },
     "execution_count": 73,
     "metadata": {},
     "output_type": "execute_result"
    }
   ],
   "source": [
    "tops.head(10)"
   ]
  },
  {
   "cell_type": "code",
   "execution_count": null,
   "metadata": {
    "collapsed": true
   },
   "outputs": [],
   "source": [
    "f"
   ]
  }
 ],
 "metadata": {
  "kernelspec": {
   "display_name": "Python 2",
   "language": "python",
   "name": "python2"
  },
  "language_info": {
   "codemirror_mode": {
    "name": "ipython",
    "version": 2
   },
   "file_extension": ".py",
   "mimetype": "text/x-python",
   "name": "python",
   "nbconvert_exporter": "python",
   "pygments_lexer": "ipython2",
   "version": "2.7.13"
  }
 },
 "nbformat": 4,
 "nbformat_minor": 2
}
