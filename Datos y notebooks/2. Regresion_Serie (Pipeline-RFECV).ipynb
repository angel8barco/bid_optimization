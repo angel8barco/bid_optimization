{
 "cells": [
  {
   "cell_type": "code",
   "execution_count": 1,
   "metadata": {
    "collapsed": true
   },
   "outputs": [],
   "source": [
    "%matplotlib inline\n",
    "import pandas as pd\n",
    "import numpy as np\n",
    "import matplotlib.pyplot as plt\n",
    "import matplotlib.gridspec as gridspec\n",
    "from datetime import datetime\n",
    "from sklearn import linear_model\n",
    "from sklearn.pipeline import Pipeline\n",
    "from sklearn.preprocessing import OneHotEncoder\n",
    "from sklearn import linear_model\n",
    "from sklearn.metrics import mean_squared_error\n",
    "from sklearn.model_selection import TimeSeriesSplit\n",
    "from sklearn.feature_selection import RFECV\n",
    "import pickle"
   ]
  },
  {
   "cell_type": "code",
   "execution_count": 2,
   "metadata": {
    "collapsed": true
   },
   "outputs": [],
   "source": [
    "train = pd.read_csv('train.csv')"
   ]
  },
  {
   "cell_type": "code",
   "execution_count": 3,
   "metadata": {},
   "outputs": [
    {
     "data": {
      "text/html": [
       "<div>\n",
       "<style>\n",
       "    .dataframe thead tr:only-child th {\n",
       "        text-align: right;\n",
       "    }\n",
       "\n",
       "    .dataframe thead th {\n",
       "        text-align: left;\n",
       "    }\n",
       "\n",
       "    .dataframe tbody tr th {\n",
       "        vertical-align: top;\n",
       "    }\n",
       "</style>\n",
       "<table border=\"1\" class=\"dataframe\">\n",
       "  <thead>\n",
       "    <tr style=\"text-align: right;\">\n",
       "      <th></th>\n",
       "      <th>Unnamed: 0</th>\n",
       "      <th>Dia</th>\n",
       "      <th>Impresiones</th>\n",
       "      <th>Clics</th>\n",
       "      <th>Conversiones</th>\n",
       "      <th>Coste</th>\n",
       "      <th>dia_semana</th>\n",
       "      <th>mes</th>\n",
       "      <th>Conversiones_lag1</th>\n",
       "      <th>Conversiones_lag2</th>\n",
       "      <th>...</th>\n",
       "      <th>Coste_lag1</th>\n",
       "      <th>Coste_lag2</th>\n",
       "      <th>Coste_lag3</th>\n",
       "      <th>Coste_lag4</th>\n",
       "      <th>Coste_lag5</th>\n",
       "      <th>Coste_lag6</th>\n",
       "      <th>Coste_lag7</th>\n",
       "      <th>Coste_lag8</th>\n",
       "      <th>Coste_lag9</th>\n",
       "      <th>Coste_lag10</th>\n",
       "    </tr>\n",
       "  </thead>\n",
       "  <tbody>\n",
       "    <tr>\n",
       "      <th>0</th>\n",
       "      <td>2015-01-11</td>\n",
       "      <td>2015-01-11</td>\n",
       "      <td>40490.0</td>\n",
       "      <td>709.0</td>\n",
       "      <td>6.0</td>\n",
       "      <td>92.36</td>\n",
       "      <td>6</td>\n",
       "      <td>0</td>\n",
       "      <td>4.0</td>\n",
       "      <td>4.0</td>\n",
       "      <td>...</td>\n",
       "      <td>76.28</td>\n",
       "      <td>77.50</td>\n",
       "      <td>74.69</td>\n",
       "      <td>81.32</td>\n",
       "      <td>88.80</td>\n",
       "      <td>40.79</td>\n",
       "      <td>53.13</td>\n",
       "      <td>80.37</td>\n",
       "      <td>104.24</td>\n",
       "      <td>65.62</td>\n",
       "    </tr>\n",
       "    <tr>\n",
       "      <th>1</th>\n",
       "      <td>2015-01-12</td>\n",
       "      <td>2015-01-12</td>\n",
       "      <td>37826.0</td>\n",
       "      <td>690.0</td>\n",
       "      <td>6.0</td>\n",
       "      <td>89.62</td>\n",
       "      <td>0</td>\n",
       "      <td>0</td>\n",
       "      <td>6.0</td>\n",
       "      <td>4.0</td>\n",
       "      <td>...</td>\n",
       "      <td>92.36</td>\n",
       "      <td>76.28</td>\n",
       "      <td>77.50</td>\n",
       "      <td>74.69</td>\n",
       "      <td>81.32</td>\n",
       "      <td>88.80</td>\n",
       "      <td>40.79</td>\n",
       "      <td>53.13</td>\n",
       "      <td>80.37</td>\n",
       "      <td>104.24</td>\n",
       "    </tr>\n",
       "    <tr>\n",
       "      <th>2</th>\n",
       "      <td>2015-01-13</td>\n",
       "      <td>2015-01-13</td>\n",
       "      <td>39804.0</td>\n",
       "      <td>787.0</td>\n",
       "      <td>10.0</td>\n",
       "      <td>101.76</td>\n",
       "      <td>1</td>\n",
       "      <td>0</td>\n",
       "      <td>6.0</td>\n",
       "      <td>6.0</td>\n",
       "      <td>...</td>\n",
       "      <td>89.62</td>\n",
       "      <td>92.36</td>\n",
       "      <td>76.28</td>\n",
       "      <td>77.50</td>\n",
       "      <td>74.69</td>\n",
       "      <td>81.32</td>\n",
       "      <td>88.80</td>\n",
       "      <td>40.79</td>\n",
       "      <td>53.13</td>\n",
       "      <td>80.37</td>\n",
       "    </tr>\n",
       "    <tr>\n",
       "      <th>3</th>\n",
       "      <td>2015-01-14</td>\n",
       "      <td>2015-01-14</td>\n",
       "      <td>41566.0</td>\n",
       "      <td>831.0</td>\n",
       "      <td>5.0</td>\n",
       "      <td>111.02</td>\n",
       "      <td>2</td>\n",
       "      <td>0</td>\n",
       "      <td>10.0</td>\n",
       "      <td>6.0</td>\n",
       "      <td>...</td>\n",
       "      <td>101.76</td>\n",
       "      <td>89.62</td>\n",
       "      <td>92.36</td>\n",
       "      <td>76.28</td>\n",
       "      <td>77.50</td>\n",
       "      <td>74.69</td>\n",
       "      <td>81.32</td>\n",
       "      <td>88.80</td>\n",
       "      <td>40.79</td>\n",
       "      <td>53.13</td>\n",
       "    </tr>\n",
       "    <tr>\n",
       "      <th>4</th>\n",
       "      <td>2015-01-15</td>\n",
       "      <td>2015-01-15</td>\n",
       "      <td>40663.0</td>\n",
       "      <td>771.0</td>\n",
       "      <td>7.0</td>\n",
       "      <td>102.51</td>\n",
       "      <td>3</td>\n",
       "      <td>0</td>\n",
       "      <td>5.0</td>\n",
       "      <td>10.0</td>\n",
       "      <td>...</td>\n",
       "      <td>111.02</td>\n",
       "      <td>101.76</td>\n",
       "      <td>89.62</td>\n",
       "      <td>92.36</td>\n",
       "      <td>76.28</td>\n",
       "      <td>77.50</td>\n",
       "      <td>74.69</td>\n",
       "      <td>81.32</td>\n",
       "      <td>88.80</td>\n",
       "      <td>40.79</td>\n",
       "    </tr>\n",
       "  </tbody>\n",
       "</table>\n",
       "<p>5 rows × 28 columns</p>\n",
       "</div>"
      ],
      "text/plain": [
       "   Unnamed: 0         Dia  Impresiones  Clics  Conversiones   Coste  \\\n",
       "0  2015-01-11  2015-01-11      40490.0  709.0           6.0   92.36   \n",
       "1  2015-01-12  2015-01-12      37826.0  690.0           6.0   89.62   \n",
       "2  2015-01-13  2015-01-13      39804.0  787.0          10.0  101.76   \n",
       "3  2015-01-14  2015-01-14      41566.0  831.0           5.0  111.02   \n",
       "4  2015-01-15  2015-01-15      40663.0  771.0           7.0  102.51   \n",
       "\n",
       "   dia_semana  mes  Conversiones_lag1  Conversiones_lag2     ...       \\\n",
       "0           6    0                4.0                4.0     ...        \n",
       "1           0    0                6.0                4.0     ...        \n",
       "2           1    0                6.0                6.0     ...        \n",
       "3           2    0               10.0                6.0     ...        \n",
       "4           3    0                5.0               10.0     ...        \n",
       "\n",
       "   Coste_lag1  Coste_lag2  Coste_lag3  Coste_lag4  Coste_lag5  Coste_lag6  \\\n",
       "0       76.28       77.50       74.69       81.32       88.80       40.79   \n",
       "1       92.36       76.28       77.50       74.69       81.32       88.80   \n",
       "2       89.62       92.36       76.28       77.50       74.69       81.32   \n",
       "3      101.76       89.62       92.36       76.28       77.50       74.69   \n",
       "4      111.02      101.76       89.62       92.36       76.28       77.50   \n",
       "\n",
       "   Coste_lag7  Coste_lag8  Coste_lag9  Coste_lag10  \n",
       "0       53.13       80.37      104.24        65.62  \n",
       "1       40.79       53.13       80.37       104.24  \n",
       "2       88.80       40.79       53.13        80.37  \n",
       "3       81.32       88.80       40.79        53.13  \n",
       "4       74.69       81.32       88.80        40.79  \n",
       "\n",
       "[5 rows x 28 columns]"
      ]
     },
     "execution_count": 3,
     "metadata": {},
     "output_type": "execute_result"
    }
   ],
   "source": [
    "train.head()"
   ]
  },
  {
   "cell_type": "code",
   "execution_count": 4,
   "metadata": {
    "collapsed": true
   },
   "outputs": [],
   "source": [
    "# Eliminamos las columnas 'Unnamed: 0', 'Conversiones' y 'Día' que no serán features en el modelo.\n",
    "X = train.drop(['Unnamed: 0','Conversiones', 'Dia'], axis=1)"
   ]
  },
  {
   "cell_type": "markdown",
   "metadata": {},
   "source": [
    "A continuación, usaremos Pipeline de sklearn para crear un modelo predictivo \"Pipeline\". Los pasos son los siguientes:\n",
    "- One-hot encoding para variables categóricas: Crearemos una función que asigne un valor único a cada característica de una variable categórica. En nuestro caso, asignaremos un valor único a cada día de la semana y otro valor único a cada mes del año.\n",
    "\n",
    "- Eliminación recursiva de features con validación cruzada (RFECV): A menudo ocurre que algunas características agregan poca capacidad predictiva a un modelo e incluso pueden empeorar la precisión del modelo. Veremos cuáles son y las eliminaremos.\n",
    "\n",
    "- Modelo final de entrenamiento: Encontrar el mejor modelo después de eliminar las features."
   ]
  },
  {
   "cell_type": "code",
   "execution_count": 5,
   "metadata": {
    "collapsed": true
   },
   "outputs": [],
   "source": [
    "# Creamos una función que para cada valor único de una varible categórica.\n",
    "cat_cols = ['mes', 'dia_semana']\n",
    "cat_cols_idx = [X.columns.get_loc(c) for c in X.columns if c in cat_cols]\n",
    "onehot = OneHotEncoder(categorical_features=cat_cols_idx, sparse=False)"
   ]
  },
  {
   "cell_type": "code",
   "execution_count": 6,
   "metadata": {
    "collapsed": true
   },
   "outputs": [],
   "source": [
    "# Creamos el modelo de regresión lineal.\n",
    "regres = linear_model.LinearRegression(fit_intercept=True)"
   ]
  },
  {
   "cell_type": "markdown",
   "metadata": {},
   "source": [
    "Para el ajuste de parámetros y la selección de características, la validación cruzada se realizará utilizando el conjunto de train ya que para realizar un pronóstico de series temporales es relevante que los datos de test sean posteriores a los datos de train.\n",
    "\n",
    "Esto también se aplica a cada pliegue en la validación cruzada. Por lo tanto, usamos una división de series de tiempo para crear dos pliegues para la validación cruzada como veremos a continuación. Cada trama de series de tiempo representa una división separada de entrenamiento / prueba, con el conjunto de entrenamiento coloreado en azul y el conjunto de pruebas coloreado en rojo."
   ]
  },
  {
   "cell_type": "code",
   "execution_count": 7,
   "metadata": {
    "collapsed": true
   },
   "outputs": [],
   "source": [
    "tscv = TimeSeriesSplit(n_splits=2)"
   ]
  },
  {
   "cell_type": "code",
   "execution_count": 8,
   "metadata": {},
   "outputs": [
    {
     "data": {
      "text/plain": [
       "Unnamed: 0             object\n",
       "Dia                    object\n",
       "Impresiones           float64\n",
       "Clics                 float64\n",
       "Conversiones          float64\n",
       "Coste                 float64\n",
       "dia_semana              int64\n",
       "mes                     int64\n",
       "Conversiones_lag1     float64\n",
       "Conversiones_lag2     float64\n",
       "Conversiones_lag3     float64\n",
       "Conversiones_lag4     float64\n",
       "Conversiones_lag5     float64\n",
       "Conversiones_lag6     float64\n",
       "Conversiones_lag7     float64\n",
       "Conversiones_lag8     float64\n",
       "Conversiones_lag9     float64\n",
       "Conversiones_lag10    float64\n",
       "Coste_lag1            float64\n",
       "Coste_lag2            float64\n",
       "Coste_lag3            float64\n",
       "Coste_lag4            float64\n",
       "Coste_lag5            float64\n",
       "Coste_lag6            float64\n",
       "Coste_lag7            float64\n",
       "Coste_lag8            float64\n",
       "Coste_lag9            float64\n",
       "Coste_lag10           float64\n",
       "dtype: object"
      ]
     },
     "execution_count": 8,
     "metadata": {},
     "output_type": "execute_result"
    }
   ],
   "source": [
    "train.dtypes"
   ]
  },
  {
   "cell_type": "code",
   "execution_count": 9,
   "metadata": {
    "collapsed": true
   },
   "outputs": [],
   "source": [
    "# Definimos la siguiente función para gestionar los problemas de formato fecha de la columna 'Dia'.\n",
    "def fec(f):\n",
    "   return datetime.strptime(f, '%Y-%m-%d')\n",
    "\n",
    "train['Dia'] = train['Dia'].apply(fec)"
   ]
  },
  {
   "cell_type": "code",
   "execution_count": 20,
   "metadata": {},
   "outputs": [
    {
     "data": {
      "text/plain": [
       "[<matplotlib.lines.Line2D at 0xdbc0080>]"
      ]
     },
     "execution_count": 20,
     "metadata": {},
     "output_type": "execute_result"
    },
    {
     "data": {
      "image/png": "[encoded data removed]",
      "text/plain": [
       "<matplotlib.figure.Figure at 0xc3a5ef0>"
      ]
     },
     "metadata": {},
     "output_type": "display_data"
    }
   ],
   "source": [
    "Conversiones_ts = train[['Dia', 'Conversiones']].copy()\n",
    "Conversiones_ts.reset_index(drop=True, inplace=True)\n",
    "\n",
    "for split_num, split_idx  in enumerate(tscv.split(Conversiones_ts)):\n",
    "    split_num = str(split_num)\n",
    "    train_idx = split_idx[0]\n",
    "    test_idx = split_idx[1]\n",
    "    Conversiones_ts['fold' + split_num] = \"not used\"\n",
    "    Conversiones_ts.loc[train_idx, 'fold' + split_num] = \"train\"\n",
    "    Conversiones_ts.loc[test_idx, 'fold' + split_num] = \"test\"\n",
    "\n",
    "gs = gridspec.GridSpec(3,1)\n",
    "fig = plt.figure(figsize=(15, 10), tight_layout=True)\n",
    "\n",
    "ax = fig.add_subplot(gs[0])\n",
    "ax.plot(Conversiones_ts.loc[Conversiones_ts['fold0']==\"train\", \"Dia\"], Conversiones_ts.loc[Conversiones_ts['fold0']==\"train\", \"Conversiones\"], color='b')\n",
    "ax.plot(Conversiones_ts.loc[Conversiones_ts['fold0']==\"test\", \"Dia\"], Conversiones_ts.loc[Conversiones_ts['fold0']==\"test\", \"Conversiones\"], 'r')\n",
    "ax.plot(Conversiones_ts.loc[Conversiones_ts['fold0']==\"not used\", \"Dia\"], Conversiones_ts.loc[Conversiones_ts['fold0']==\"not used\", \"Conversiones\"], 'w')\n",
    "\n",
    "ax = fig.add_subplot(gs[1], sharex=ax)\n",
    "plt.plot(Conversiones_ts.loc[Conversiones_ts['fold1']==\"train\", \"Dia\"], Conversiones_ts.loc[Conversiones_ts['fold1']==\"train\", \"Conversiones\"], 'b')\n",
    "plt.plot(Conversiones_ts.loc[Conversiones_ts['fold1']==\"test\", \"Dia\"], Conversiones_ts.loc[Conversiones_ts['fold1']==\"test\", \"Conversiones\"], 'r')\n",
    "plt.plot(Conversiones_ts.loc[Conversiones_ts['fold1']==\"not used\", \"Dia\"], Conversiones_ts.loc[Conversiones_ts['fold1']==\"not used\", \"Conversiones\"], 'w')\n"
   ]
  },
  {
   "cell_type": "markdown",
   "metadata": {},
   "source": [
    "Crea el RFECV. La métrica para evaluar el modelo es el error cuadrático medio negativo siendo el mejor modelo el que maximiza esta métrica."
   ]
  },
  {
   "cell_type": "code",
   "execution_count": 21,
   "metadata": {
    "collapsed": true
   },
   "outputs": [],
   "source": [
    "regr_cv = RFECV(estimator=regres,\n",
    "             cv=tscv,\n",
    "             scoring='neg_mean_squared_error',\n",
    "             verbose=2,\n",
    "             n_jobs=-1)"
   ]
  },
  {
   "cell_type": "code",
   "execution_count": 22,
   "metadata": {
    "collapsed": true
   },
   "outputs": [],
   "source": [
    "# Modelo Pipeline\n",
    "regr_pipe = Pipeline([('onehot', onehot), ('rfecv', regr_cv)])"
   ]
  },
  {
   "cell_type": "code",
   "execution_count": 23,
   "metadata": {},
   "outputs": [
    {
     "data": {
      "text/plain": [
       "Pipeline(steps=[('onehot', OneHotEncoder(categorical_features=[3, 4], dtype=<type 'numpy.float64'>,\n",
       "       handle_unknown='error', n_values='auto', sparse=False)), ('rfecv', RFECV(cv=TimeSeriesSplit(n_splits=2),\n",
       "   estimator=LinearRegression(copy_X=True, fit_intercept=True, n_jobs=1, normalize=False),\n",
       "   n_jobs=-1, scoring='neg_mean_squared_error', step=1, verbose=2))])"
      ]
     },
     "execution_count": 23,
     "metadata": {},
     "output_type": "execute_result"
    }
   ],
   "source": [
    "# Entrenamos el modelo pipeline\n",
    "regr_pipe.fit(X, y=train['Conversiones'])"
   ]
  },
  {
   "cell_type": "markdown",
   "metadata": {},
   "source": [
    "#### Exploramos los resultados de la validación cruzada"
   ]
  },
  {
   "cell_type": "code",
   "execution_count": 24,
   "metadata": {},
   "outputs": [
    {
     "data": {
      "text/plain": [
       "-305.91210631699676"
      ]
     },
     "execution_count": 24,
     "metadata": {},
     "output_type": "execute_result"
    }
   ],
   "source": [
    "# Mejor error cuadrático medio CV (Cross Validation)\n",
    "max(regr_pipe.named_steps['rfecv'].grid_scores_)"
   ]
  },
  {
   "cell_type": "markdown",
   "metadata": {},
   "source": [
    "Ploteamos los errores de validación cruzada con cada subconjunto de features."
   ]
  },
  {
   "cell_type": "code",
   "execution_count": 25,
   "metadata": {},
   "outputs": [
    {
     "data": {
      "image/png": "[encoded data removed]",
      "text/plain": [
       "<matplotlib.figure.Figure at 0xd8e8c50>"
      ]
     },
     "metadata": {},
     "output_type": "display_data"
    }
   ],
   "source": [
    "cv_results = pd.DataFrame.from_dict({'cv_score': regr_pipe.named_steps['rfecv'].grid_scores_})\n",
    "cv_results['mean_squared_error'] = cv_results['cv_score']\n",
    "plt.figure(figsize=(15, 5))\n",
    "plt.plot(cv_results.index, cv_results['mean_squared_error'])\n",
    "plt.xlabel('number of features')\n",
    "plt.title('CV negative mean squared error')\n",
    "plt.show()"
   ]
  },
  {
   "cell_type": "markdown",
   "metadata": {},
   "source": [
    "La mayoria de las features son relevantes para el modelo."
   ]
  },
  {
   "cell_type": "code",
   "execution_count": 26,
   "metadata": {},
   "outputs": [
    {
     "data": {
      "text/plain": [
       "39"
      ]
     },
     "execution_count": 26,
     "metadata": {},
     "output_type": "execute_result"
    }
   ],
   "source": [
    "# Número de features selecciondas:\n",
    "regr_pipe.named_steps['rfecv'].n_features_"
   ]
  },
  {
   "cell_type": "code",
   "execution_count": 27,
   "metadata": {
    "collapsed": true
   },
   "outputs": [],
   "source": [
    "# Identificamos las features admitidas después del proceso de selección:\n",
    "def get_onehot_cols(X):\n",
    "    X_dummy_cols = list(pd.get_dummies(X.copy()[cat_cols], columns=cat_cols).columns)\n",
    "    other_cols = list(X.columns.drop(cat_cols))\n",
    "    return X_dummy_cols + other_cols"
   ]
  },
  {
   "cell_type": "code",
   "execution_count": 28,
   "metadata": {
    "collapsed": true
   },
   "outputs": [],
   "source": [
    "supported_features = pd.DataFrame.from_dict(\n",
    "    {'feature':get_onehot_cols(X), \n",
    "     'supported':regr_pipe.named_steps['rfecv'].support_}\n",
    ")"
   ]
  },
  {
   "cell_type": "code",
   "execution_count": 29,
   "metadata": {
    "scrolled": true
   },
   "outputs": [
    {
     "data": {
      "text/html": [
       "<div>\n",
       "<style>\n",
       "    .dataframe thead tr:only-child th {\n",
       "        text-align: right;\n",
       "    }\n",
       "\n",
       "    .dataframe thead th {\n",
       "        text-align: left;\n",
       "    }\n",
       "\n",
       "    .dataframe tbody tr th {\n",
       "        vertical-align: top;\n",
       "    }\n",
       "</style>\n",
       "<table border=\"1\" class=\"dataframe\">\n",
       "  <thead>\n",
       "    <tr style=\"text-align: right;\">\n",
       "      <th></th>\n",
       "      <th>feature</th>\n",
       "      <th>supported</th>\n",
       "    </tr>\n",
       "  </thead>\n",
       "  <tbody>\n",
       "    <tr>\n",
       "      <th>0</th>\n",
       "      <td>mes_0</td>\n",
       "      <td>True</td>\n",
       "    </tr>\n",
       "    <tr>\n",
       "      <th>1</th>\n",
       "      <td>mes_1</td>\n",
       "      <td>True</td>\n",
       "    </tr>\n",
       "    <tr>\n",
       "      <th>2</th>\n",
       "      <td>mes_2</td>\n",
       "      <td>True</td>\n",
       "    </tr>\n",
       "    <tr>\n",
       "      <th>3</th>\n",
       "      <td>mes_3</td>\n",
       "      <td>True</td>\n",
       "    </tr>\n",
       "    <tr>\n",
       "      <th>4</th>\n",
       "      <td>mes_4</td>\n",
       "      <td>True</td>\n",
       "    </tr>\n",
       "    <tr>\n",
       "      <th>5</th>\n",
       "      <td>mes_5</td>\n",
       "      <td>True</td>\n",
       "    </tr>\n",
       "    <tr>\n",
       "      <th>6</th>\n",
       "      <td>mes_6</td>\n",
       "      <td>True</td>\n",
       "    </tr>\n",
       "    <tr>\n",
       "      <th>7</th>\n",
       "      <td>mes_7</td>\n",
       "      <td>True</td>\n",
       "    </tr>\n",
       "    <tr>\n",
       "      <th>8</th>\n",
       "      <td>mes_8</td>\n",
       "      <td>True</td>\n",
       "    </tr>\n",
       "    <tr>\n",
       "      <th>9</th>\n",
       "      <td>mes_9</td>\n",
       "      <td>True</td>\n",
       "    </tr>\n",
       "    <tr>\n",
       "      <th>10</th>\n",
       "      <td>mes_10</td>\n",
       "      <td>True</td>\n",
       "    </tr>\n",
       "    <tr>\n",
       "      <th>11</th>\n",
       "      <td>mes_11</td>\n",
       "      <td>True</td>\n",
       "    </tr>\n",
       "    <tr>\n",
       "      <th>12</th>\n",
       "      <td>dia_semana_0</td>\n",
       "      <td>True</td>\n",
       "    </tr>\n",
       "    <tr>\n",
       "      <th>13</th>\n",
       "      <td>dia_semana_1</td>\n",
       "      <td>True</td>\n",
       "    </tr>\n",
       "    <tr>\n",
       "      <th>14</th>\n",
       "      <td>dia_semana_2</td>\n",
       "      <td>True</td>\n",
       "    </tr>\n",
       "    <tr>\n",
       "      <th>15</th>\n",
       "      <td>dia_semana_3</td>\n",
       "      <td>True</td>\n",
       "    </tr>\n",
       "    <tr>\n",
       "      <th>16</th>\n",
       "      <td>dia_semana_4</td>\n",
       "      <td>True</td>\n",
       "    </tr>\n",
       "    <tr>\n",
       "      <th>17</th>\n",
       "      <td>dia_semana_5</td>\n",
       "      <td>True</td>\n",
       "    </tr>\n",
       "    <tr>\n",
       "      <th>18</th>\n",
       "      <td>dia_semana_6</td>\n",
       "      <td>True</td>\n",
       "    </tr>\n",
       "    <tr>\n",
       "      <th>19</th>\n",
       "      <td>Impresiones</td>\n",
       "      <td>False</td>\n",
       "    </tr>\n",
       "    <tr>\n",
       "      <th>20</th>\n",
       "      <td>Clics</td>\n",
       "      <td>True</td>\n",
       "    </tr>\n",
       "    <tr>\n",
       "      <th>21</th>\n",
       "      <td>Coste</td>\n",
       "      <td>True</td>\n",
       "    </tr>\n",
       "    <tr>\n",
       "      <th>22</th>\n",
       "      <td>Conversiones_lag1</td>\n",
       "      <td>True</td>\n",
       "    </tr>\n",
       "    <tr>\n",
       "      <th>23</th>\n",
       "      <td>Conversiones_lag2</td>\n",
       "      <td>True</td>\n",
       "    </tr>\n",
       "    <tr>\n",
       "      <th>24</th>\n",
       "      <td>Conversiones_lag3</td>\n",
       "      <td>True</td>\n",
       "    </tr>\n",
       "    <tr>\n",
       "      <th>25</th>\n",
       "      <td>Conversiones_lag4</td>\n",
       "      <td>True</td>\n",
       "    </tr>\n",
       "    <tr>\n",
       "      <th>26</th>\n",
       "      <td>Conversiones_lag5</td>\n",
       "      <td>True</td>\n",
       "    </tr>\n",
       "    <tr>\n",
       "      <th>27</th>\n",
       "      <td>Conversiones_lag6</td>\n",
       "      <td>True</td>\n",
       "    </tr>\n",
       "    <tr>\n",
       "      <th>28</th>\n",
       "      <td>Conversiones_lag7</td>\n",
       "      <td>True</td>\n",
       "    </tr>\n",
       "    <tr>\n",
       "      <th>29</th>\n",
       "      <td>Conversiones_lag8</td>\n",
       "      <td>True</td>\n",
       "    </tr>\n",
       "    <tr>\n",
       "      <th>30</th>\n",
       "      <td>Conversiones_lag9</td>\n",
       "      <td>True</td>\n",
       "    </tr>\n",
       "    <tr>\n",
       "      <th>31</th>\n",
       "      <td>Conversiones_lag10</td>\n",
       "      <td>True</td>\n",
       "    </tr>\n",
       "    <tr>\n",
       "      <th>32</th>\n",
       "      <td>Coste_lag1</td>\n",
       "      <td>True</td>\n",
       "    </tr>\n",
       "    <tr>\n",
       "      <th>33</th>\n",
       "      <td>Coste_lag2</td>\n",
       "      <td>True</td>\n",
       "    </tr>\n",
       "    <tr>\n",
       "      <th>34</th>\n",
       "      <td>Coste_lag3</td>\n",
       "      <td>False</td>\n",
       "    </tr>\n",
       "    <tr>\n",
       "      <th>35</th>\n",
       "      <td>Coste_lag4</td>\n",
       "      <td>True</td>\n",
       "    </tr>\n",
       "    <tr>\n",
       "      <th>36</th>\n",
       "      <td>Coste_lag5</td>\n",
       "      <td>False</td>\n",
       "    </tr>\n",
       "    <tr>\n",
       "      <th>37</th>\n",
       "      <td>Coste_lag6</td>\n",
       "      <td>True</td>\n",
       "    </tr>\n",
       "    <tr>\n",
       "      <th>38</th>\n",
       "      <td>Coste_lag7</td>\n",
       "      <td>True</td>\n",
       "    </tr>\n",
       "    <tr>\n",
       "      <th>39</th>\n",
       "      <td>Coste_lag8</td>\n",
       "      <td>True</td>\n",
       "    </tr>\n",
       "    <tr>\n",
       "      <th>40</th>\n",
       "      <td>Coste_lag9</td>\n",
       "      <td>True</td>\n",
       "    </tr>\n",
       "    <tr>\n",
       "      <th>41</th>\n",
       "      <td>Coste_lag10</td>\n",
       "      <td>True</td>\n",
       "    </tr>\n",
       "  </tbody>\n",
       "</table>\n",
       "</div>"
      ],
      "text/plain": [
       "               feature  supported\n",
       "0                mes_0       True\n",
       "1                mes_1       True\n",
       "2                mes_2       True\n",
       "3                mes_3       True\n",
       "4                mes_4       True\n",
       "5                mes_5       True\n",
       "6                mes_6       True\n",
       "7                mes_7       True\n",
       "8                mes_8       True\n",
       "9                mes_9       True\n",
       "10              mes_10       True\n",
       "11              mes_11       True\n",
       "12        dia_semana_0       True\n",
       "13        dia_semana_1       True\n",
       "14        dia_semana_2       True\n",
       "15        dia_semana_3       True\n",
       "16        dia_semana_4       True\n",
       "17        dia_semana_5       True\n",
       "18        dia_semana_6       True\n",
       "19         Impresiones      False\n",
       "20               Clics       True\n",
       "21               Coste       True\n",
       "22   Conversiones_lag1       True\n",
       "23   Conversiones_lag2       True\n",
       "24   Conversiones_lag3       True\n",
       "25   Conversiones_lag4       True\n",
       "26   Conversiones_lag5       True\n",
       "27   Conversiones_lag6       True\n",
       "28   Conversiones_lag7       True\n",
       "29   Conversiones_lag8       True\n",
       "30   Conversiones_lag9       True\n",
       "31  Conversiones_lag10       True\n",
       "32          Coste_lag1       True\n",
       "33          Coste_lag2       True\n",
       "34          Coste_lag3      False\n",
       "35          Coste_lag4       True\n",
       "36          Coste_lag5      False\n",
       "37          Coste_lag6       True\n",
       "38          Coste_lag7       True\n",
       "39          Coste_lag8       True\n",
       "40          Coste_lag9       True\n",
       "41         Coste_lag10       True"
      ]
     },
     "execution_count": 29,
     "metadata": {},
     "output_type": "execute_result"
    }
   ],
   "source": [
    "supported_features"
   ]
  }
 ],
 "metadata": {
  "kernelspec": {
   "display_name": "Python 2",
   "language": "python",
   "name": "python2"
  },
  "language_info": {
   "codemirror_mode": {
    "name": "ipython",
    "version": 2
   },
   "file_extension": ".py",
   "mimetype": "text/x-python",
   "name": "python",
   "nbconvert_exporter": "python",
   "pygments_lexer": "ipython2",
   "version": "2.7.13"
  }
 },
 "nbformat": 4,
 "nbformat_minor": 2
}
